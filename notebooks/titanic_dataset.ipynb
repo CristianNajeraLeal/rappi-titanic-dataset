{
 "cells": [
  {
   "cell_type": "code",
   "execution_count": 1,
   "outputs": [],
   "source": [
    "import warnings\n",
    "warnings.filterwarnings(\"ignore\")"
   ],
   "metadata": {
    "collapsed": false,
    "ExecuteTime": {
     "end_time": "2024-04-12T17:45:13.295635Z",
     "start_time": "2024-04-12T17:45:13.031332700Z"
    }
   },
   "id": "3af2abfad9661a98"
  },
  {
   "cell_type": "code",
   "execution_count": 2,
   "id": "initial_id",
   "metadata": {
    "collapsed": true,
    "ExecuteTime": {
     "end_time": "2024-04-12T17:45:14.242527Z",
     "start_time": "2024-04-12T17:45:13.035540200Z"
    }
   },
   "outputs": [],
   "source": [
    "import os\n",
    "import pandas as pd\n",
    "import src\n",
    "import sklearn"
   ]
  },
  {
   "cell_type": "code",
   "execution_count": 3,
   "outputs": [],
   "source": [
    "pwd = os.getcwd()\n",
    "root = os.path.dirname(pwd)\n",
    "data_folder = os.path.join(root, 'data')"
   ],
   "metadata": {
    "collapsed": false,
    "ExecuteTime": {
     "end_time": "2024-04-12T17:45:14.267947700Z",
     "start_time": "2024-04-12T17:45:14.245668300Z"
    }
   },
   "id": "ec000bb02d7a7817"
  },
  {
   "cell_type": "code",
   "execution_count": 4,
   "outputs": [],
   "source": [
    "df = pd.read_csv(os.path.join(data_folder, 'train.csv'))"
   ],
   "metadata": {
    "collapsed": false,
    "ExecuteTime": {
     "end_time": "2024-04-12T17:45:14.268418Z",
     "start_time": "2024-04-12T17:45:14.254681800Z"
    }
   },
   "id": "f94ea885ce4c116f"
  },
  {
   "cell_type": "code",
   "execution_count": 5,
   "outputs": [],
   "source": [
    "def na_summary(df):\n",
    "    na_count = df.isna().sum()\n",
    "    na_percentage = (na_count / len(df)) * 100\n",
    "    summary_df = pd.DataFrame({\n",
    "        'variables': na_count.index,\n",
    "        'na_count': na_count.values,\n",
    "        'na_share': na_percentage.values\n",
    "    })\n",
    "    summary_df.sort_values(by='na_share', inplace=True, ascending=False)\n",
    "    summary_df.reset_index(drop=True, inplace=True)\n",
    "    return summary_df"
   ],
   "metadata": {
    "collapsed": false,
    "ExecuteTime": {
     "end_time": "2024-04-12T17:45:14.277587500Z",
     "start_time": "2024-04-12T17:45:14.265610Z"
    }
   },
   "id": "490feba92e8862b3"
  },
  {
   "cell_type": "code",
   "execution_count": 6,
   "outputs": [],
   "source": [
    "def proportion_summary(df, x_variable, y_variable, not_na=False):    \n",
    "    if not_na:\n",
    "        filtered_df = df[df[x_variable].notna()]\n",
    "    else:\n",
    "        filtered_df = df[df[x_variable].isna()]\n",
    "\n",
    "    counts = filtered_df[y_variable].value_counts()\n",
    "    share = (counts / counts.sum()) * 100\n",
    "    result_df = pd.DataFrame({\n",
    "        'count': counts,\n",
    "        'share': round(share, 2)\n",
    "    })\n",
    "    result_df.sort_index(inplace=True)\n",
    "\n",
    "    return result_df"
   ],
   "metadata": {
    "collapsed": false,
    "ExecuteTime": {
     "end_time": "2024-04-12T17:45:14.277587500Z",
     "start_time": "2024-04-12T17:45:14.273416800Z"
    }
   },
   "id": "1c2d247bce73dacf"
  },
  {
   "cell_type": "code",
   "execution_count": 7,
   "outputs": [],
   "source": [
    "def proportion_x_to_y(df, x_variable, y_variable):\n",
    "    group_counts = df.groupby([x_variable, y_variable]).size()\n",
    "    total_counts = group_counts.groupby(level=0).sum()\n",
    "    proportion = group_counts / total_counts\n",
    "    proportion_df = proportion.reset_index(name='Proportion')\n",
    "    return proportion_df"
   ],
   "metadata": {
    "collapsed": false,
    "ExecuteTime": {
     "end_time": "2024-04-12T17:45:14.286633700Z",
     "start_time": "2024-04-12T17:45:14.278582900Z"
    }
   },
   "id": "f368969adb6be223"
  },
  {
   "cell_type": "code",
   "execution_count": 51,
   "outputs": [
    {
     "data": {
      "text/plain": "Survived\n0    0.62\n1    0.38\nName: count, dtype: float64"
     },
     "execution_count": 51,
     "metadata": {},
     "output_type": "execute_result"
    }
   ],
   "source": [
    "# Data set is not unbalanced \n",
    "round(df['Survived'].value_counts() / len(df), 2)"
   ],
   "metadata": {
    "collapsed": false,
    "ExecuteTime": {
     "end_time": "2024-04-12T18:18:09.867262200Z",
     "start_time": "2024-04-12T18:18:09.802803700Z"
    }
   },
   "id": "92114bec3123d493"
  },
  {
   "cell_type": "code",
   "execution_count": 8,
   "outputs": [
    {
     "data": {
      "text/plain": "      variables  na_count   na_share\n0         Cabin       687  77.104377\n1           Age       177  19.865320\n2      Embarked         2   0.224467\n3   PassengerId         0   0.000000\n4          Name         0   0.000000\n5        Pclass         0   0.000000\n6      Survived         0   0.000000\n7           Sex         0   0.000000\n8         Parch         0   0.000000\n9         SibSp         0   0.000000\n10         Fare         0   0.000000\n11       Ticket         0   0.000000",
      "text/html": "<div>\n<style scoped>\n    .dataframe tbody tr th:only-of-type {\n        vertical-align: middle;\n    }\n\n    .dataframe tbody tr th {\n        vertical-align: top;\n    }\n\n    .dataframe thead th {\n        text-align: right;\n    }\n</style>\n<table border=\"1\" class=\"dataframe\">\n  <thead>\n    <tr style=\"text-align: right;\">\n      <th></th>\n      <th>variables</th>\n      <th>na_count</th>\n      <th>na_share</th>\n    </tr>\n  </thead>\n  <tbody>\n    <tr>\n      <th>0</th>\n      <td>Cabin</td>\n      <td>687</td>\n      <td>77.104377</td>\n    </tr>\n    <tr>\n      <th>1</th>\n      <td>Age</td>\n      <td>177</td>\n      <td>19.865320</td>\n    </tr>\n    <tr>\n      <th>2</th>\n      <td>Embarked</td>\n      <td>2</td>\n      <td>0.224467</td>\n    </tr>\n    <tr>\n      <th>3</th>\n      <td>PassengerId</td>\n      <td>0</td>\n      <td>0.000000</td>\n    </tr>\n    <tr>\n      <th>4</th>\n      <td>Name</td>\n      <td>0</td>\n      <td>0.000000</td>\n    </tr>\n    <tr>\n      <th>5</th>\n      <td>Pclass</td>\n      <td>0</td>\n      <td>0.000000</td>\n    </tr>\n    <tr>\n      <th>6</th>\n      <td>Survived</td>\n      <td>0</td>\n      <td>0.000000</td>\n    </tr>\n    <tr>\n      <th>7</th>\n      <td>Sex</td>\n      <td>0</td>\n      <td>0.000000</td>\n    </tr>\n    <tr>\n      <th>8</th>\n      <td>Parch</td>\n      <td>0</td>\n      <td>0.000000</td>\n    </tr>\n    <tr>\n      <th>9</th>\n      <td>SibSp</td>\n      <td>0</td>\n      <td>0.000000</td>\n    </tr>\n    <tr>\n      <th>10</th>\n      <td>Fare</td>\n      <td>0</td>\n      <td>0.000000</td>\n    </tr>\n    <tr>\n      <th>11</th>\n      <td>Ticket</td>\n      <td>0</td>\n      <td>0.000000</td>\n    </tr>\n  </tbody>\n</table>\n</div>"
     },
     "execution_count": 8,
     "metadata": {},
     "output_type": "execute_result"
    }
   ],
   "source": [
    "na_summary(df)"
   ],
   "metadata": {
    "collapsed": false,
    "ExecuteTime": {
     "end_time": "2024-04-12T17:45:14.295806900Z",
     "start_time": "2024-04-12T17:45:14.282581100Z"
    }
   },
   "id": "9f7577a96af22e01"
  },
  {
   "cell_type": "code",
   "execution_count": 9,
   "outputs": [
    {
     "data": {
      "text/plain": "          count  share\nSurvived              \n0           481  70.01\n1           206  29.99",
      "text/html": "<div>\n<style scoped>\n    .dataframe tbody tr th:only-of-type {\n        vertical-align: middle;\n    }\n\n    .dataframe tbody tr th {\n        vertical-align: top;\n    }\n\n    .dataframe thead th {\n        text-align: right;\n    }\n</style>\n<table border=\"1\" class=\"dataframe\">\n  <thead>\n    <tr style=\"text-align: right;\">\n      <th></th>\n      <th>count</th>\n      <th>share</th>\n    </tr>\n    <tr>\n      <th>Survived</th>\n      <th></th>\n      <th></th>\n    </tr>\n  </thead>\n  <tbody>\n    <tr>\n      <th>0</th>\n      <td>481</td>\n      <td>70.01</td>\n    </tr>\n    <tr>\n      <th>1</th>\n      <td>206</td>\n      <td>29.99</td>\n    </tr>\n  </tbody>\n</table>\n</div>"
     },
     "execution_count": 9,
     "metadata": {},
     "output_type": "execute_result"
    }
   ],
   "source": [
    "proportion_summary(df, 'Cabin', 'Survived')"
   ],
   "metadata": {
    "collapsed": false,
    "ExecuteTime": {
     "end_time": "2024-04-12T17:45:14.331057400Z",
     "start_time": "2024-04-12T17:45:14.307607700Z"
    }
   },
   "id": "840993f1adc12a78"
  },
  {
   "cell_type": "code",
   "execution_count": 10,
   "outputs": [
    {
     "data": {
      "text/plain": "          count  share\nSurvived              \n0            68  33.33\n1           136  66.67",
      "text/html": "<div>\n<style scoped>\n    .dataframe tbody tr th:only-of-type {\n        vertical-align: middle;\n    }\n\n    .dataframe tbody tr th {\n        vertical-align: top;\n    }\n\n    .dataframe thead th {\n        text-align: right;\n    }\n</style>\n<table border=\"1\" class=\"dataframe\">\n  <thead>\n    <tr style=\"text-align: right;\">\n      <th></th>\n      <th>count</th>\n      <th>share</th>\n    </tr>\n    <tr>\n      <th>Survived</th>\n      <th></th>\n      <th></th>\n    </tr>\n  </thead>\n  <tbody>\n    <tr>\n      <th>0</th>\n      <td>68</td>\n      <td>33.33</td>\n    </tr>\n    <tr>\n      <th>1</th>\n      <td>136</td>\n      <td>66.67</td>\n    </tr>\n  </tbody>\n</table>\n</div>"
     },
     "execution_count": 10,
     "metadata": {},
     "output_type": "execute_result"
    }
   ],
   "source": [
    "# Cabin wil be dropped. NAN are more than 75%\n",
    "# Survived proportion is different from NAN to non-NAN values, but 75%+ of NAN are too much\n",
    "proportion_summary(df, 'Cabin', 'Survived', True)"
   ],
   "metadata": {
    "collapsed": false,
    "ExecuteTime": {
     "end_time": "2024-04-12T17:45:14.359992100Z",
     "start_time": "2024-04-12T17:45:14.314152400Z"
    }
   },
   "id": "ffecb8f2cf32eeec"
  },
  {
   "cell_type": "code",
   "execution_count": 11,
   "outputs": [
    {
     "data": {
      "text/plain": "Survived\n1    136\n0     68\nName: count, dtype: int64"
     },
     "execution_count": 11,
     "metadata": {},
     "output_type": "execute_result"
    }
   ],
   "source": [
    "df[df['Cabin'].notna()]['Survived'].value_counts()"
   ],
   "metadata": {
    "collapsed": false,
    "ExecuteTime": {
     "end_time": "2024-04-12T17:45:14.420737700Z",
     "start_time": "2024-04-12T17:45:14.324358800Z"
    }
   },
   "id": "6c532473eebd8bf2"
  },
  {
   "cell_type": "code",
   "execution_count": 12,
   "outputs": [
    {
     "data": {
      "text/plain": "Survived\n1    2\nName: count, dtype: int64"
     },
     "execution_count": 12,
     "metadata": {},
     "output_type": "execute_result"
    }
   ],
   "source": [
    "# Drop rows with Embarked as NA because all of them are the same Survived category\n",
    "# Maybe they were not in the ship \n",
    "\n",
    "df[df['Embarked'].isna()]['Survived'].value_counts()"
   ],
   "metadata": {
    "collapsed": false,
    "ExecuteTime": {
     "end_time": "2024-04-12T17:45:14.422243500Z",
     "start_time": "2024-04-12T17:45:14.335712300Z"
    }
   },
   "id": "c6a78a9cfd216daa"
  },
  {
   "cell_type": "code",
   "execution_count": 13,
   "outputs": [
    {
     "data": {
      "text/plain": "<Figure size 640x480 with 1 Axes>",
      "image/png": "[encoded data removed]"
     },
     "metadata": {},
     "output_type": "display_data"
    }
   ],
   "source": [
    "# Age has a fairly good distribution, so we can replace NAN values with the median\n",
    "# It will be bins \n",
    "# 0 - 10\n",
    "# 11 - 20\n",
    "# 21 - 30\n",
    "# 31 - 40\n",
    "# 41 - 50\n",
    "# 50 +\n",
    "\n",
    "df['Age'].hist(bins=40);"
   ],
   "metadata": {
    "collapsed": false,
    "ExecuteTime": {
     "end_time": "2024-04-12T17:45:14.587310700Z",
     "start_time": "2024-04-12T17:45:14.340606200Z"
    }
   },
   "id": "a0d27c406fe0c5f3"
  },
  {
   "cell_type": "code",
   "execution_count": 14,
   "outputs": [
    {
     "data": {
      "text/plain": "28.0"
     },
     "execution_count": 14,
     "metadata": {},
     "output_type": "execute_result"
    }
   ],
   "source": [
    "df['Age'].median()"
   ],
   "metadata": {
    "collapsed": false,
    "ExecuteTime": {
     "end_time": "2024-04-12T17:45:14.607599900Z",
     "start_time": "2024-04-12T17:45:14.495567100Z"
    }
   },
   "id": "c7851b61db39c5fa"
  },
  {
   "cell_type": "code",
   "execution_count": 15,
   "outputs": [],
   "source": [
    "df['family_size'] = df['Parch'] + df['SibSp'] + 1"
   ],
   "metadata": {
    "collapsed": false,
    "ExecuteTime": {
     "end_time": "2024-04-12T17:45:14.608144800Z",
     "start_time": "2024-04-12T17:45:14.503600800Z"
    }
   },
   "id": "991c0fd08afe78d3"
  },
  {
   "cell_type": "code",
   "execution_count": 16,
   "outputs": [],
   "source": [
    "p = proportion_x_to_y(df, 'family_size', 'Survived')"
   ],
   "metadata": {
    "collapsed": false,
    "ExecuteTime": {
     "end_time": "2024-04-12T17:45:14.608144800Z",
     "start_time": "2024-04-12T17:45:14.507656Z"
    }
   },
   "id": "9ed24105d38f2c30"
  },
  {
   "cell_type": "code",
   "execution_count": 17,
   "outputs": [
    {
     "data": {
      "text/plain": "    family_size  Survived  Proportion\n1             1         1    0.303538\n3             2         1    0.552795\n5             3         1    0.578431\n7             4         1    0.724138\n9             5         1    0.200000\n11            6         1    0.136364\n13            7         1    0.333333",
      "text/html": "<div>\n<style scoped>\n    .dataframe tbody tr th:only-of-type {\n        vertical-align: middle;\n    }\n\n    .dataframe tbody tr th {\n        vertical-align: top;\n    }\n\n    .dataframe thead th {\n        text-align: right;\n    }\n</style>\n<table border=\"1\" class=\"dataframe\">\n  <thead>\n    <tr style=\"text-align: right;\">\n      <th></th>\n      <th>family_size</th>\n      <th>Survived</th>\n      <th>Proportion</th>\n    </tr>\n  </thead>\n  <tbody>\n    <tr>\n      <th>1</th>\n      <td>1</td>\n      <td>1</td>\n      <td>0.303538</td>\n    </tr>\n    <tr>\n      <th>3</th>\n      <td>2</td>\n      <td>1</td>\n      <td>0.552795</td>\n    </tr>\n    <tr>\n      <th>5</th>\n      <td>3</td>\n      <td>1</td>\n      <td>0.578431</td>\n    </tr>\n    <tr>\n      <th>7</th>\n      <td>4</td>\n      <td>1</td>\n      <td>0.724138</td>\n    </tr>\n    <tr>\n      <th>9</th>\n      <td>5</td>\n      <td>1</td>\n      <td>0.200000</td>\n    </tr>\n    <tr>\n      <th>11</th>\n      <td>6</td>\n      <td>1</td>\n      <td>0.136364</td>\n    </tr>\n    <tr>\n      <th>13</th>\n      <td>7</td>\n      <td>1</td>\n      <td>0.333333</td>\n    </tr>\n  </tbody>\n</table>\n</div>"
     },
     "execution_count": 17,
     "metadata": {},
     "output_type": "execute_result"
    }
   ],
   "source": [
    "# I will create a boolean variable for family_size between 2 and 4\n",
    "p[p['Survived'] == 1]"
   ],
   "metadata": {
    "collapsed": false,
    "ExecuteTime": {
     "end_time": "2024-04-12T17:45:14.608144800Z",
     "start_time": "2024-04-12T17:45:14.521839Z"
    }
   },
   "id": "8ddfac1e3655b22"
  },
  {
   "cell_type": "markdown",
   "source": [
    "# Model "
   ],
   "metadata": {
    "collapsed": false
   },
   "id": "6298da55f6cc13a8"
  },
  {
   "cell_type": "code",
   "execution_count": 18,
   "outputs": [],
   "source": [
    "col_label = 'Survived'"
   ],
   "metadata": {
    "collapsed": false,
    "ExecuteTime": {
     "end_time": "2024-04-12T17:45:14.608144800Z",
     "start_time": "2024-04-12T17:45:14.525839200Z"
    }
   },
   "id": "92bc15f12ceaa067"
  },
  {
   "cell_type": "code",
   "execution_count": 19,
   "outputs": [],
   "source": [
    "train = pd.read_csv(os.path.join(data_folder, 'train.csv'))\n",
    "x_test = pd.read_csv(os.path.join(data_folder, 'test.csv'))\n",
    "y_test = pd.read_csv(os.path.join(data_folder, 'gender_submission.csv'))[[col_label]]"
   ],
   "metadata": {
    "collapsed": false,
    "ExecuteTime": {
     "end_time": "2024-04-12T17:45:14.608144800Z",
     "start_time": "2024-04-12T17:45:14.531175900Z"
    }
   },
   "id": "7e403bee23176f9d"
  },
  {
   "cell_type": "code",
   "execution_count": 20,
   "outputs": [],
   "source": [
    "fit_model = src.fit_model.FitModel()"
   ],
   "metadata": {
    "collapsed": false,
    "ExecuteTime": {
     "end_time": "2024-04-12T17:45:14.608144800Z",
     "start_time": "2024-04-12T17:45:14.543456100Z"
    }
   },
   "id": "f0c16f92aa170255"
  },
  {
   "cell_type": "code",
   "execution_count": 21,
   "outputs": [],
   "source": [
    "grid = fit_model.execute(df=train)"
   ],
   "metadata": {
    "collapsed": false,
    "ExecuteTime": {
     "end_time": "2024-04-12T17:45:17.929459600Z",
     "start_time": "2024-04-12T17:45:14.548621400Z"
    }
   },
   "id": "6fffe03307a2f23"
  },
  {
   "cell_type": "code",
   "execution_count": 22,
   "outputs": [],
   "source": [
    "model = grid.best_estimator_"
   ],
   "metadata": {
    "collapsed": false,
    "ExecuteTime": {
     "end_time": "2024-04-12T17:45:17.935667700Z",
     "start_time": "2024-04-12T17:45:17.929459600Z"
    }
   },
   "id": "58cfb5a882412f7b"
  },
  {
   "cell_type": "code",
   "execution_count": 23,
   "outputs": [],
   "source": [
    "predictions = model.predict(x_test)"
   ],
   "metadata": {
    "collapsed": false,
    "ExecuteTime": {
     "end_time": "2024-04-12T17:45:17.954278600Z",
     "start_time": "2024-04-12T17:45:17.932977800Z"
    }
   },
   "id": "fb9be7ac7a073411"
  },
  {
   "cell_type": "code",
   "execution_count": 24,
   "outputs": [],
   "source": [
    "accuracy = sklearn.metrics.accuracy_score(y_test, predictions)\n",
    "f1 = sklearn.metrics.f1_score(y_test, predictions, average=\"macro\")"
   ],
   "metadata": {
    "collapsed": false,
    "ExecuteTime": {
     "end_time": "2024-04-12T17:45:17.979263100Z",
     "start_time": "2024-04-12T17:45:17.960154900Z"
    }
   },
   "id": "3a65772a230dfe54"
  },
  {
   "cell_type": "code",
   "execution_count": 49,
   "outputs": [
    {
     "name": "stdout",
     "output_type": "stream",
     "text": [
      "f1: 0.86\n",
      "accuracy: 0.87\n"
     ]
    }
   ],
   "source": [
    "print(f\"f1: {round(f1, 2)}\")\n",
    "print(f\"accuracy: {round(accuracy, 2)}\")"
   ],
   "metadata": {
    "collapsed": false,
    "ExecuteTime": {
     "end_time": "2024-04-12T18:13:28.636933400Z",
     "start_time": "2024-04-12T18:13:28.602856400Z"
    }
   },
   "id": "195ae6700a4fbdcb"
  },
  {
   "cell_type": "markdown",
   "source": [
    "### Conclusion about the model\n",
    "\n",
    "I consider this a good model.\n",
    "The F1-score is 0.86 which shows the model is effectively classifying positive and negative cases."
   ],
   "metadata": {
    "collapsed": false
   },
   "id": "5b357700e43ab055"
  },
  {
   "cell_type": "code",
   "execution_count": 48,
   "outputs": [
    {
     "data": {
      "text/plain": "                            variable  importance\n0                  min_max__fare_log    0.289207\n1        ohe_engineering__Sex_female    0.197976\n2          ohe_engineering__Sex_male    0.181257\n3                  remainder__Pclass    0.128784\n4            remainder__small_family    0.047752\n5         ohe_engineering__Age_child    0.042192\n6   ohe_engineering__Age_young_adult    0.020908\n7        ohe_engineering__Embarked_S    0.018790\n8     ohe_engineering__Age_teen_plus    0.018394\n9        ohe_engineering__Embarked_C    0.015298\n10        ohe_engineering__Age_adult    0.011720\n11       ohe_engineering__Embarked_Q    0.011161\n12         ohe_engineering__Age_teen    0.009582\n13        ohe_engineering__Age_elder    0.006979",
      "text/html": "<div>\n<style scoped>\n    .dataframe tbody tr th:only-of-type {\n        vertical-align: middle;\n    }\n\n    .dataframe tbody tr th {\n        vertical-align: top;\n    }\n\n    .dataframe thead th {\n        text-align: right;\n    }\n</style>\n<table border=\"1\" class=\"dataframe\">\n  <thead>\n    <tr style=\"text-align: right;\">\n      <th></th>\n      <th>variable</th>\n      <th>importance</th>\n    </tr>\n  </thead>\n  <tbody>\n    <tr>\n      <th>0</th>\n      <td>min_max__fare_log</td>\n      <td>0.289207</td>\n    </tr>\n    <tr>\n      <th>1</th>\n      <td>ohe_engineering__Sex_female</td>\n      <td>0.197976</td>\n    </tr>\n    <tr>\n      <th>2</th>\n      <td>ohe_engineering__Sex_male</td>\n      <td>0.181257</td>\n    </tr>\n    <tr>\n      <th>3</th>\n      <td>remainder__Pclass</td>\n      <td>0.128784</td>\n    </tr>\n    <tr>\n      <th>4</th>\n      <td>remainder__small_family</td>\n      <td>0.047752</td>\n    </tr>\n    <tr>\n      <th>5</th>\n      <td>ohe_engineering__Age_child</td>\n      <td>0.042192</td>\n    </tr>\n    <tr>\n      <th>6</th>\n      <td>ohe_engineering__Age_young_adult</td>\n      <td>0.020908</td>\n    </tr>\n    <tr>\n      <th>7</th>\n      <td>ohe_engineering__Embarked_S</td>\n      <td>0.018790</td>\n    </tr>\n    <tr>\n      <th>8</th>\n      <td>ohe_engineering__Age_teen_plus</td>\n      <td>0.018394</td>\n    </tr>\n    <tr>\n      <th>9</th>\n      <td>ohe_engineering__Embarked_C</td>\n      <td>0.015298</td>\n    </tr>\n    <tr>\n      <th>10</th>\n      <td>ohe_engineering__Age_adult</td>\n      <td>0.011720</td>\n    </tr>\n    <tr>\n      <th>11</th>\n      <td>ohe_engineering__Embarked_Q</td>\n      <td>0.011161</td>\n    </tr>\n    <tr>\n      <th>12</th>\n      <td>ohe_engineering__Age_teen</td>\n      <td>0.009582</td>\n    </tr>\n    <tr>\n      <th>13</th>\n      <td>ohe_engineering__Age_elder</td>\n      <td>0.006979</td>\n    </tr>\n  </tbody>\n</table>\n</div>"
     },
     "execution_count": 48,
     "metadata": {},
     "output_type": "execute_result"
    }
   ],
   "source": [
    "importance_df = pd.DataFrame(\n",
    "    {\n",
    "        'variable': model[-2].get_feature_names_out().tolist(),\n",
    "        'importance': model[-1].feature_importances_.tolist()\n",
    "    }\n",
    ")\n",
    "importance_df.sort_values('importance', ascending=False, inplace=True)\n",
    "importance_df.reset_index(drop=True, inplace=True)\n",
    "importance_df"
   ],
   "metadata": {
    "collapsed": false,
    "ExecuteTime": {
     "end_time": "2024-04-12T17:54:48.860041900Z",
     "start_time": "2024-04-12T17:54:48.832474700Z"
    }
   },
   "id": "4f6ac3c50bef424b"
  },
  {
   "cell_type": "markdown",
   "source": [
    "### Feature Importance\n",
    "\n",
    "The four more important variables are:\n",
    "1. Fare\n",
    "2. Sex (female)\n",
    "3. Sex (male)\n",
    "4. Pclass\n",
    "\n",
    "Not all the variables represents the same for the model, and these four variables represent almost 80% of the model capacity.\n",
    "Fare (28.92%) has the biggest impact, it could be related to the economic purchase power and rooms maybe closer to lifeboats.\n",
    "Sex (female 19.79%) is the second and sex (male 18.12%) are the second and third more important variables; it maybe related to \"children and women first\" rescue mindset.\n",
    "Pclass (12.87%) it is highly related to the economic purchase power that may put the passengers close to the lifeboats."
   ],
   "metadata": {
    "collapsed": false
   },
   "id": "2a4223ac6cf64b08"
  },
  {
   "cell_type": "markdown",
   "source": [
    "### Architecture\n",
    "\n",
    "The model could be deployed as a SageMaker endpoint or a as a service on a ECS cluster.\n",
    "\n",
    "\n",
    "### Automate \n",
    "\n",
    "I would have a MLFlow server running, connected to RDS and S3.\n",
    "After that, (1) a SageMaker job could be trigger from an AWS Lambda scheduled with an EventBridge, or (2) do it directly on a EC2 instance dedicated for that.\n",
    "\n",
    "\n",
    "The reason of using this services is that they can provide a simple, straight forward, and scalable way to go to prod and keep the model updated.\n",
    "\n"
   ],
   "metadata": {
    "collapsed": false
   },
   "id": "154f8e6355347200"
  }
 ],
 "metadata": {
  "kernelspec": {
   "display_name": "Python 3",
   "language": "python",
   "name": "python3"
  },
  "language_info": {
   "codemirror_mode": {
    "name": "ipython",
    "version": 2
   },
   "file_extension": ".py",
   "mimetype": "text/x-python",
   "name": "python",
   "nbconvert_exporter": "python",
   "pygments_lexer": "ipython2",
   "version": "2.7.6"
  }
 },
 "nbformat": 4,
 "nbformat_minor": 5
}
